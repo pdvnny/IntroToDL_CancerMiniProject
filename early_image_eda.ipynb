{
 "cells": [
  {
   "cell_type": "markdown",
   "id": "e74e680c-41d9-4691-aaf9-c3a2d0e5e087",
   "metadata": {},
   "source": [
    "# Parker Dunn\n",
    "(pgdunn@bu.edu | pdunn91@gmail.com)  \n",
    "Created on July 1st, 2022\n",
    "\n",
    "\n",
    "__Assignment for COURSERA: Introduction to Deep Learning (via CU Boulder)__\n",
    "\n",
    "__Assignment:__ Week 3 - CNN Cancer Detection Kaggle Mini-Project\n",
    "\n",
    "\n",
    "# Early Exploration of the Images"
   ]
  },
  {
   "cell_type": "code",
   "execution_count": 2,
   "id": "ef0bb710-df82-4e0b-99ae-f9027799d5f0",
   "metadata": {},
   "outputs": [
    {
     "name": "stdout",
     "output_type": "stream",
     "text": [
      "<class 'numpy.ndarray'>\n"
     ]
    }
   ],
   "source": [
    "from skimage import io\n",
    "import glob\n",
    "\n",
    "# Grab random image\n",
    "\n",
    "train_locs = glob.glob(\"train/*.tif\")\n",
    "file = train_locs[5]\n",
    "image = io.imread(file)\n",
    "\n",
    "print(type(image))"
   ]
  },
  {
   "cell_type": "code",
   "execution_count": 4,
   "id": "0f3b9577-c367-4825-a4dd-22cd2f22d1f4",
   "metadata": {},
   "outputs": [
    {
     "name": "stdout",
     "output_type": "stream",
     "text": [
      "(96, 96, 3)\n"
     ]
    }
   ],
   "source": [
    "print(image.shape)"
   ]
  },
  {
   "cell_type": "markdown",
   "id": "b6d36c6a-2af8-4cfc-9a89-59ac4476199f",
   "metadata": {},
   "source": [
    "* 9,216 pixels per image\n",
    "* Each image is RGB (depth of 3)\n",
    "* Total: 27,648 features"
   ]
  },
  {
   "cell_type": "code",
   "execution_count": 6,
   "id": "ee0f790a-713e-4d5c-ab22-c6ad3e72c6fe",
   "metadata": {},
   "outputs": [
    {
     "name": "stdout",
     "output_type": "stream",
     "text": [
      "[255 220 247]\n"
     ]
    }
   ],
   "source": [
    "print(image[0,0])  # this should be pixel 1?"
   ]
  },
  {
   "cell_type": "code",
   "execution_count": 8,
   "id": "6d1a7cb5-7da7-4cdc-b036-259acd0e225d",
   "metadata": {},
   "outputs": [
    {
     "name": "stdout",
     "output_type": "stream",
     "text": [
      "[[255 220 247]\n",
      " [130  89  93]\n",
      " [187 145 133]\n",
      " [255 225 221]]\n"
     ]
    }
   ],
   "source": [
    "print(image[0,0:4]) # first four pixels"
   ]
  },
  {
   "cell_type": "code",
   "execution_count": 9,
   "id": "38012d04-03e5-470d-9ca9-930f9e27cd95",
   "metadata": {},
   "outputs": [
    {
     "name": "stdout",
     "output_type": "stream",
     "text": [
      "[255 130 187 255]\n"
     ]
    }
   ],
   "source": [
    "print(image[0,0:4,0])  # Red only from first four pixels"
   ]
  }
 ],
 "metadata": {
  "kernelspec": {
   "display_name": "Python 3 (ipykernel)",
   "language": "python",
   "name": "python3"
  },
  "language_info": {
   "codemirror_mode": {
    "name": "ipython",
    "version": 3
   },
   "file_extension": ".py",
   "mimetype": "text/x-python",
   "name": "python",
   "nbconvert_exporter": "python",
   "pygments_lexer": "ipython3",
   "version": "3.9.12"
  }
 },
 "nbformat": 4,
 "nbformat_minor": 5
}

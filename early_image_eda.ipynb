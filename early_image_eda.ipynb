{
 "cells": [
  {
   "cell_type": "markdown",
   "id": "855d3db1",
   "metadata": {},
   "source": [
    "# Parker Dunn\n",
    "(pgdunn@bu.edu | pdunn91@gmail.com)  \n",
    "Created on July 1st, 2022\n",
    "\n",
    "\n",
    "__Assignment for COURSERA: Introduction to Deep Learning (via CU Boulder)__\n",
    "\n",
    "__Assignment:__ Week 3 - CNN Cancer Detection Kaggle Mini-Project\n",
    "\n",
    "\n",
    "# Early Exploration of the Images"
   ]
  },
  {
   "cell_type": "code",
   "execution_count": 3,
   "id": "e8936e12",
   "metadata": {},
   "outputs": [
    {
     "name": "stdout",
     "output_type": "stream",
     "text": [
      "train\\00001b2b5609af42ab0ab276dd4cd41c3e7745b5.tif\n",
      "<class 'numpy.ndarray'>\n"
     ]
    }
   ],
   "source": [
    "from skimage import io\n",
    "import glob\n",
    "from helperfunctions import *\n",
    "\n",
    "# Grab random image\n",
    "\n",
    "train_locs = glob.glob(\"train/*.tif\")\n",
    "file = train_locs[5]\n",
    "image = io.imread(file)"
   ]
  },
  {
   "cell_type": "code",
   "execution_count": 7,
   "id": "2ed18ff4",
   "metadata": {},
   "outputs": [
    {
     "name": "stdout",
     "output_type": "stream",
     "text": [
      "Learning about 'train_locs'... \n",
      "\n",
      "train\\00001b2b5609af42ab0ab276dd4cd41c3e7745b5.tif\n",
      "00001b2b5609af42ab0ab276dd4cd41c3e7745b5\n",
      "\n",
      "\n",
      "Learning about image object read in by 'io.imread()'... \n",
      "\n",
      "<class 'numpy.ndarray'>\n",
      "(96, 96, 3)\n"
     ]
    }
   ],
   "source": [
    "print(\"Learning about 'train_locs'...\",\"\\n\")\n",
    "print(train_locs[0])\n",
    "print(train_locs[0][6:-4])\n",
    "print(\"\\n\")\n",
    "\n",
    "print(\"Learning about image object read in by 'io.imread()'...\",\"\\n\")\n",
    "print(type(image))\n",
    "print(image.shape)"
   ]
  },
  {
   "cell_type": "markdown",
   "id": "f4d16149",
   "metadata": {},
   "source": [
    "* 9,216 pixels per image\n",
    "* Each image is RGB (depth of 3)\n",
    "* Total: 27,648 features"
   ]
  },
  {
   "cell_type": "code",
   "execution_count": 6,
   "id": "d36d4073",
   "metadata": {},
   "outputs": [
    {
     "name": "stdout",
     "output_type": "stream",
     "text": [
      "[255 220 247]\n"
     ]
    }
   ],
   "source": [
    "print(image[0,0])  # this should be pixel 1?"
   ]
  },
  {
   "cell_type": "code",
   "execution_count": 8,
   "id": "c91e5c14",
   "metadata": {},
   "outputs": [
    {
     "name": "stdout",
     "output_type": "stream",
     "text": [
      "[[255 220 247]\n",
      " [130  89  93]\n",
      " [187 145 133]\n",
      " [255 225 221]]\n"
     ]
    }
   ],
   "source": [
    "print(image[0,0:4]) # first four pixels"
   ]
  },
  {
   "cell_type": "code",
   "execution_count": 8,
   "id": "5b970598",
   "metadata": {},
   "outputs": [
    {
     "name": "stdout",
     "output_type": "stream",
     "text": [
      "[255 130 187 255]\n"
     ]
    }
   ],
   "source": [
    "print(image[0,0:4,0])  # Red only from first four pixels"
   ]
  },
  {
   "cell_type": "code",
   "execution_count": null,
   "id": "95cb5c78",
   "metadata": {},
   "outputs": [],
   "source": []
  }
 ],
 "metadata": {
  "kernelspec": {
   "display_name": "Python 3 (ipykernel)",
   "language": "python",
   "name": "python3"
  },
  "language_info": {
   "codemirror_mode": {
    "name": "ipython",
    "version": 3
   },
   "file_extension": ".py",
   "mimetype": "text/x-python",
   "name": "python",
   "nbconvert_exporter": "python",
   "pygments_lexer": "ipython3",
   "version": "3.9.12"
  }
 },
 "nbformat": 4,
 "nbformat_minor": 5
}

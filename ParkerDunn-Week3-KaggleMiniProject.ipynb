{
 "cells": [
  {
   "cell_type": "markdown",
   "id": "45fa3a83-5465-4bde-806d-aaf30e9c0343",
   "metadata": {},
   "source": [
    "# Parker Dunn\n",
    "(pgdunn@bu.edu | pdunn91@gmail.com)  \n",
    "Created on July 1st, 2022\n",
    "\n",
    "\n",
    "__Assignment for COURSERA: Introduction to Deep Learning (via CU Boulder)__\n",
    "\n",
    "__Assignment:__ Week 3 - CNN Cancer Detection Kaggle Mini-Project"
   ]
  },
  {
   "cell_type": "markdown",
   "id": "8a2d311a-64d1-472d-b034-0a554fb53d23",
   "metadata": {},
   "source": [
    "# Information about the Competition/Data\n",
    "___\n",
    "\n",
    "The Kaggle competition is called \"Histopathologic Cancer Detection\"  \n",
    "LINK: https://www.kaggle.com/c/histopathologic-cancer-detection\n",
    "\n",
    "### Data Description (from Kaggle)\n",
    "\n",
    "In this dataset, you are provided with a large number of small pathology images to classify. Files are named with an image id. The train_labels.csv file provides the ground truth for the images in the train folder. You are predicting the labels for the images in the test folder. A positive label indicates that the center 32x32px region of a patch contains at least one pixel of tumor tissue. Tumor tissue in the outer region of the patch does not influence the label. This outer region is provided to enable fully-convolutional models that do not use zero-padding, to ensure consistent behavior when applied to a whole-slide image.\n",
    "\n",
    "The original PCam dataset contains duplicate images due to its probabilistic sampling, however, the version presented on Kaggle does not contain duplicates. We have otherwise maintained the same data and splits as the PCam benchmark."
   ]
  },
  {
   "cell_type": "markdown",
   "id": "faac8c65-5920-45c8-9d2f-5c9638e9f116",
   "metadata": {},
   "source": [
    "___\n",
    "# My work starts here\n",
    "___"
   ]
  },
  {
   "cell_type": "code",
   "execution_count": null,
   "id": "e416f75d-0b73-4c54-b410-85e7df4a98bb",
   "metadata": {},
   "outputs": [],
   "source": [
    "# imports of packages\n",
    "\n",
    "import matplotlib.pyplot as plt\n",
    "import seaborn as sns\n",
    "\n",
    "from helperfunctions import *"
   ]
  },
  {
   "cell_type": "markdown",
   "id": "f2800b6d-ed2b-420e-8379-e1c50edaa521",
   "metadata": {},
   "source": [
    "## Step 1 - Description of the data and problem\n",
    "\n"
   ]
  },
  {
   "cell_type": "markdown",
   "id": "8529ea44-8f72-4827-8cfc-a33fffc2467a",
   "metadata": {},
   "source": [
    "## Step 2 - Exploratory Data Analysis (EDA)\n",
    "\n",
    "#### Functions for previewing the images"
   ]
  },
  {
   "cell_type": "code",
   "execution_count": null,
   "id": "c11ccd77-b757-4dda-9520-c768350bc168",
   "metadata": {},
   "outputs": [],
   "source": [
    "def show_image(X, i):\n",
    "    # select image\n",
    "    image = X[i,:]\n",
    "    # reshape into original image structure (32 x 32)\n",
    "    image = image.reshape((32,32))\n",
    "    # display the image\n",
    "    plt.imshow(image)\n",
    "    \n",
    "def show_images(X, dim, lst):\n",
    "    fig, axes = plt.subplots(nrows=dim[0], ncols=dim[1], figsize=(10, 8))\n",
    "    \n",
    "    images = []\n",
    "    for img in lst:\n",
    "        image = X[img, :]\n",
    "        image.reshape((32,32))\n",
    "        images.append(image) # assumes each image is a row in X\n",
    "    \n",
    "    for ax, image in zip(axes.flatten(), images):\n",
    "        ax.imshow(image)\n",
    "        \n",
    "    # not completed yet!\n",
    "\n",
    "    \n",
    "    \n",
    "    "
   ]
  },
  {
   "cell_type": "markdown",
   "id": "cef9dee8-90e6-42aa-9069-84c50d2c7e80",
   "metadata": {},
   "source": [
    "#### Inspecting the images"
   ]
  }
 ],
 "metadata": {
  "kernelspec": {
   "display_name": "Python 3 (ipykernel)",
   "language": "python",
   "name": "python3"
  },
  "language_info": {
   "codemirror_mode": {
    "name": "ipython",
    "version": 3
   },
   "file_extension": ".py",
   "mimetype": "text/x-python",
   "name": "python",
   "nbconvert_exporter": "python",
   "pygments_lexer": "ipython3",
   "version": "3.9.12"
  }
 },
 "nbformat": 4,
 "nbformat_minor": 5
}

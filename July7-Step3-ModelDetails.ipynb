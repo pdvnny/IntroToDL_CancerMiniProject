{
 "cells": [
  {
   "cell_type": "markdown",
   "id": "b161a6a9-2dc5-4cad-a721-8e4dbdf0d220",
   "metadata": {},
   "source": [
    "# Parker Dunn\n",
    "\n",
    "__Assignment for COURSERA: Introduction to Deep Learning (via CU Boulder)__  \n",
    "__Assignment:__ Week 3 - CNN Cancer Detection Kaggle Mini-Project\n",
    "\n",
    "\n",
    "## To be added to main file\n",
    "\n",
    "Forgot to push the most recent version of my script from home."
   ]
  },
  {
   "cell_type": "markdown",
   "id": "ec8db1da-1a6c-4618-9a3f-9f6066f1d3e8",
   "metadata": {},
   "source": [
    "## Section 3 - Model Architecture\n",
    "\n",
    "#### Plan\n",
    "\n",
    "Due to limited time and computing resources, I'll stick to a simple model. I plan to use the \"building block-style\" Covolution-Convolution-Pooling design pattern with probably no more than 4 repetitions of this pattern. Since we previously experimented with the development of neural network architecture, I am hoping to replicate a reliable NN structure from one of the example image classification models from the videos. In theory, the key features will be extracted by the convolution architecture and the NN structure from another image classification task can be successfully optimized for new features.\n",
    "\n",
    "Laid out below are my achitecture plans as well as some of the thoughts I have regarding the training of my CNN.\n",
    "\n",
    "__Design parameters and Hyperparameters__\n",
    "Decisions\n",
    "* I will use ReLU (hidden layers) and sigmoid (output layer) as activation functions. This is not a design parameter that I plan to vary this time.\n",
    "* I will primarily use 3x3xd convolutional filters\n",
    "* As an optimization method, I will stick to SGD, which I am most familiar with, and plant to incorporate momentum if possible with the Keras API.\n",
    "\n",
    "Hyperparameters\n",
    "* Learning rate\n",
    "    * Test: 0.01 | 0.001 | 0.0001 (3 values)\n",
    "* Momentum\n",
    "    * Test: 0.0 | 0.01 | 0.1 (3 values)\n",
    "* Number of epochs (i.e., how much training)\n",
    "\n",
    "Design\n",
    "* Number of [Conv-Conv-Pool] layers\n",
    "    - Test: 2, 3, 4\n",
    "* Number of filters to use\n",
    "* \n",
    "\n",
    "Potential ways to improve a struggling model\n",
    "* L2 regularization\n",
    "* Batch normalization\n",
    "\n",
    "I plan to use moderate training parameters at first (e.g. learning rate -> 0.001 and momentum -> 0.01) to experiment and narrow down some viable convolution designs.\n",
    "\n",
    "#### Step 3 - Part 1: Trying to find a repeatable way to create a CNN!"
   ]
  },
  {
   "cell_type": "code",
   "execution_count": 1,
   "id": "b7053585-d19f-44fb-a434-d11937346c81",
   "metadata": {},
   "outputs": [],
   "source": [
    "import tensorflow as tf\n",
    "from tensorflow import keras\n",
    "\n",
    "import numpy as np"
   ]
  },
  {
   "cell_type": "markdown",
   "id": "a9f066a1-f82e-440b-9018-cc6e6fbacaec",
   "metadata": {},
   "source": [
    "__Inputs__\n",
    "* List of layers\n",
    "    - convolution layers -> need filter sizes too\n",
    "    - NN layers -> any regularization?\n",
    "\n",
    "__Outputs__\n",
    "* Model object"
   ]
  },
  {
   "cell_type": "code",
   "execution_count": null,
   "id": "8354c7aa-99c9-4756-befb-edb0c9498f53",
   "metadata": {},
   "outputs": [],
   "source": [
    "conv_design = [\"conv\", (3,3,3), \"conv\", (3,3,3), \"maxpool\"]\n",
    "nn_architecture = [92, 48, 12, 1] # completely guessed that these are reasonable numbers\n",
    "\n",
    "model = tf.keras.Sequential()\n",
    "\n"
   ]
  }
 ],
 "metadata": {
  "kernelspec": {
   "display_name": "Python 3 (ipykernel)",
   "language": "python",
   "name": "python3"
  },
  "language_info": {
   "codemirror_mode": {
    "name": "ipython",
    "version": 3
   },
   "file_extension": ".py",
   "mimetype": "text/x-python",
   "name": "python",
   "nbconvert_exporter": "python",
   "pygments_lexer": "ipython3",
   "version": "3.9.12"
  }
 },
 "nbformat": 4,
 "nbformat_minor": 5
}
